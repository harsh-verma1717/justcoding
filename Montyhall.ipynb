{
  "cells": [
    {
      "cell_type": "markdown",
      "metadata": {
        "colab_type": "text",
        "id": "view-in-github"
      },
      "source": [
        "<a href=\"https://colab.research.google.com/github/harsh-verma1717/py/blob/main/Montyhall.ipynb\" target=\"_parent\"><img src=\"https://colab.research.google.com/assets/colab-badge.svg\" alt=\"Open In Colab\"/></a>"
      ]
    },
    {
      "cell_type": "code",
      "execution_count": 2,
      "metadata": {
        "id": "cDNdT8PZLxSQ"
      },
      "outputs": [
        {
          "name": "stdout",
          "output_type": "stream",
          "text": [
            "Door1 Door2 Door3\n",
            "You have three doors, behind one of these is a brand new car and rest two are empty\n"
          ]
        },
        {
          "ename": "ValueError",
          "evalue": "invalid literal for int() with base 10: ''",
          "output_type": "error",
          "traceback": [
            "\u001b[0;31m---------------------------------------------------------------------------\u001b[0m",
            "\u001b[0;31mValueError\u001b[0m                                Traceback (most recent call last)",
            "Cell \u001b[0;32mIn[2], line 8\u001b[0m\n\u001b[1;32m      6\u001b[0m \u001b[38;5;28mprint\u001b[39m(\u001b[38;5;124m\"\u001b[39m\u001b[38;5;124mDoor1 Door2 Door3\u001b[39m\u001b[38;5;124m\"\u001b[39m)\n\u001b[1;32m      7\u001b[0m \u001b[38;5;28mprint\u001b[39m(\u001b[38;5;124m\"\u001b[39m\u001b[38;5;124mYou have three doors, behind one of these is a brand new car and rest two are empty\u001b[39m\u001b[38;5;124m\"\u001b[39m)\n\u001b[0;32m----> 8\u001b[0m selected\u001b[38;5;241m=\u001b[39m\u001b[38;5;28;43mint\u001b[39;49m\u001b[43m(\u001b[49m\u001b[38;5;28;43minput\u001b[39;49m\u001b[43m(\u001b[49m\u001b[38;5;124;43m\"\u001b[39;49m\u001b[38;5;124;43mselect any one door:\u001b[39;49m\u001b[38;5;124;43m\"\u001b[39;49m\u001b[43m)\u001b[49m\u001b[43m)\u001b[49m\n\u001b[1;32m     12\u001b[0m car\u001b[38;5;241m=\u001b[39mrandom\u001b[38;5;241m.\u001b[39mchoice(door)\n\u001b[1;32m     13\u001b[0m list2\u001b[38;5;241m=\u001b[39mdoor\u001b[38;5;241m.\u001b[39mcopy()\n",
            "\u001b[0;31mValueError\u001b[0m: invalid literal for int() with base 10: ''"
          ]
        }
      ],
      "source": [
        "\n",
        "game=0\n",
        "win=0\n",
        "door=[1,2,3]\n",
        "while game<1000:\n",
        "  import random\n",
        "  print(\"Door1 Door2 Door3\")\n",
        "  print(\"You have three doors, behind one of these is a brand new car and rest two are empty\")\n",
        "  selected=int(input(\"select any one door:\"))\n",
        "\n",
        "\n",
        "\n",
        "  car=random.choice(door)\n",
        "  list2=door.copy()\n",
        "  if selected==car:\n",
        "    list2.remove(car)\n",
        "    reselect=random.choice(list2)\n",
        "    list3=list2.copy()\n",
        "    list3.remove(reselect)\n",
        "    last=list3[0]\n",
        "  else:\n",
        "    list2.remove(selected)\n",
        "    reselect=random.choice(list2)\n",
        "    list3=list2.copy()\n",
        "    list3.remove(reselect)\n",
        "    last=list3[0]\n",
        "\n",
        "  list2=door.copy()\n",
        "\n",
        "  print(\"You have chosen Door\",selected,\"now i open Door\",reselect,\"which is empty\",\"Now you can stay at your orginal choice i.e Door\",selected,\"or switch to Door\",last,)\n",
        "  choice=input(\"input 'y' to switch or 'n' to stay\")\n",
        "  if choice=='n' and last==car:\n",
        "    print(\"Congrats! you got the car\")\n",
        "    win+=1\n",
        "    game+=1\n",
        "  elif choice=='n' and last!=car:\n",
        "    print(\"you have chosen an empty door\")\n",
        "    game+=1\n",
        "  elif choice=='y' and last!=car:\n",
        "    print(\"Congrats! you got the car\")\n",
        "    win+=1\n",
        "    game+=1\n",
        "  elif choice=='y' and last==car:\n",
        "    print(\"you switched to the empty door\")\n",
        "    game+=1\n",
        "  else:\n",
        "    print(\"Please enter the right choice\")\n",
        "\n",
        "  print(\"TOTAL GAMES:\",game)\n",
        "  print(\"TOTAL WINS:\",win)\n",
        "  print(\"win percentage:\",win/game*100)\n",
        "\n",
        "\n",
        "\n"
      ]
    }
  ],
  "metadata": {
    "colab": {
      "authorship_tag": "ABX9TyOZWu8wFa7PUOLUCKN1HkAw",
      "include_colab_link": true,
      "provenance": []
    },
    "kernelspec": {
      "display_name": "Python 3",
      "name": "python3"
    },
    "language_info": {
      "codemirror_mode": {
        "name": "ipython",
        "version": 3
      },
      "file_extension": ".py",
      "mimetype": "text/x-python",
      "name": "python",
      "nbconvert_exporter": "python",
      "pygments_lexer": "ipython3",
      "version": "3.13.0"
    }
  },
  "nbformat": 4,
  "nbformat_minor": 0
}
